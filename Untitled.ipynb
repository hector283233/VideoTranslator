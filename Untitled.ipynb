{
 "cells": [
  {
   "cell_type": "code",
   "execution_count": 1,
   "id": "c9db4b8c",
   "metadata": {
    "scrolled": false
   },
   "outputs": [
    {
     "name": "stdout",
     "output_type": "stream",
     "text": [
      "Collecting git+https://github.com/openai/whisper.git\n",
      "  Cloning https://github.com/openai/whisper.git to c:\\users\\muhammet-pc\\appdata\\local\\temp\\pip-req-build-54l_ucfs\n",
      "  Resolved https://github.com/openai/whisper.git to commit 248b6cb124225dd263bb9bd32d060b6517e067f8\n",
      "  Installing build dependencies: started\n",
      "  Installing build dependencies: finished with status 'done'\n",
      "  Getting requirements to build wheel: started\n",
      "  Getting requirements to build wheel: finished with status 'done'\n",
      "  Preparing metadata (pyproject.toml): started\n",
      "  Preparing metadata (pyproject.toml): finished with status 'done'\n",
      "Requirement already satisfied: numpy in c:\\users\\muhammet-pc\\anaconda3\\lib\\site-packages (from openai-whisper==20230314) (1.23.5)\n",
      "Requirement already satisfied: torch in c:\\users\\muhammet-pc\\anaconda3\\lib\\site-packages (from openai-whisper==20230314) (1.12.1)\n",
      "Requirement already satisfied: tiktoken==0.3.3 in c:\\users\\muhammet-pc\\anaconda3\\lib\\site-packages (from openai-whisper==20230314) (0.3.3)\n",
      "Requirement already satisfied: more-itertools in c:\\users\\muhammet-pc\\anaconda3\\lib\\site-packages (from openai-whisper==20230314) (9.1.0)\n",
      "Requirement already satisfied: tqdm in c:\\users\\muhammet-pc\\anaconda3\\lib\\site-packages (from openai-whisper==20230314) (4.64.1)\n",
      "Requirement already satisfied: numba in c:\\users\\muhammet-pc\\anaconda3\\lib\\site-packages (from openai-whisper==20230314) (0.56.4)\n",
      "Requirement already satisfied: requests>=2.26.0 in c:\\users\\muhammet-pc\\anaconda3\\lib\\site-packages (from tiktoken==0.3.3->openai-whisper==20230314) (2.28.1)\n",
      "Requirement already satisfied: regex>=2022.1.18 in c:\\users\\muhammet-pc\\anaconda3\\lib\\site-packages (from tiktoken==0.3.3->openai-whisper==20230314) (2022.7.9)\n",
      "Requirement already satisfied: setuptools in c:\\users\\muhammet-pc\\anaconda3\\lib\\site-packages (from numba->openai-whisper==20230314) (65.6.3)\n",
      "Requirement already satisfied: llvmlite<0.40,>=0.39.0dev0 in c:\\users\\muhammet-pc\\anaconda3\\lib\\site-packages (from numba->openai-whisper==20230314) (0.39.1)\n",
      "Requirement already satisfied: typing_extensions in c:\\users\\muhammet-pc\\anaconda3\\lib\\site-packages (from torch->openai-whisper==20230314) (4.4.0)\n",
      "Requirement already satisfied: colorama in c:\\users\\muhammet-pc\\anaconda3\\lib\\site-packages (from tqdm->openai-whisper==20230314) (0.4.6)\n",
      "Requirement already satisfied: urllib3<1.27,>=1.21.1 in c:\\users\\muhammet-pc\\anaconda3\\lib\\site-packages (from requests>=2.26.0->tiktoken==0.3.3->openai-whisper==20230314) (1.26.14)\n",
      "Requirement already satisfied: idna<4,>=2.5 in c:\\users\\muhammet-pc\\anaconda3\\lib\\site-packages (from requests>=2.26.0->tiktoken==0.3.3->openai-whisper==20230314) (3.4)\n",
      "Requirement already satisfied: charset-normalizer<3,>=2 in c:\\users\\muhammet-pc\\anaconda3\\lib\\site-packages (from requests>=2.26.0->tiktoken==0.3.3->openai-whisper==20230314) (2.0.4)\n",
      "Requirement already satisfied: certifi>=2017.4.17 in c:\\users\\muhammet-pc\\anaconda3\\lib\\site-packages (from requests>=2.26.0->tiktoken==0.3.3->openai-whisper==20230314) (2023.5.7)\n",
      "Note: you may need to restart the kernel to use updated packages.\n"
     ]
    },
    {
     "name": "stderr",
     "output_type": "stream",
     "text": [
      "  Running command git clone --filter=blob:none --quiet https://github.com/openai/whisper.git 'C:\\Users\\Muhammet-PC\\AppData\\Local\\Temp\\pip-req-build-54l_ucfs'\n"
     ]
    }
   ],
   "source": [
    "pip install git+https://github.com/openai/whisper.git"
   ]
  },
  {
   "cell_type": "code",
   "execution_count": 3,
   "id": "f9acad63",
   "metadata": {},
   "outputs": [
    {
     "name": "stdout",
     "output_type": "stream",
     "text": [
      "Looking in indexes: https://download.pytorch.org/whl/cu118\n",
      "Requirement already satisfied: torch in c:\\users\\muhammet-pc\\anaconda3\\lib\\site-packages (1.12.1)\n",
      "Collecting torchvision\n",
      "  Downloading https://download.pytorch.org/whl/cu118/torchvision-0.15.2%2Bcu118-cp310-cp310-win_amd64.whl (4.9 MB)\n",
      "     ---------------------------------------- 4.9/4.9 MB 975.4 kB/s eta 0:00:00\n",
      "Collecting torchaudio\n",
      "  Downloading https://download.pytorch.org/whl/cu118/torchaudio-2.0.2%2Bcu118-cp310-cp310-win_amd64.whl (2.5 MB)\n",
      "     ---------------------------------------- 2.5/2.5 MB 1.1 MB/s eta 0:00:00\n",
      "Requirement already satisfied: typing_extensions in c:\\users\\muhammet-pc\\anaconda3\\lib\\site-packages (from torch) (4.4.0)\n",
      "Requirement already satisfied: requests in c:\\users\\muhammet-pc\\anaconda3\\lib\\site-packages (from torchvision) (2.28.1)\n",
      "Requirement already satisfied: numpy in c:\\users\\muhammet-pc\\anaconda3\\lib\\site-packages (from torchvision) (1.23.5)\n",
      "Collecting torch\n",
      "  Downloading https://download.pytorch.org/whl/cu118/torch-2.0.1%2Bcu118-cp310-cp310-win_amd64.whl (2619.1 MB)\n",
      "     ---------------------------------------- 2.6/2.6 GB 544.2 kB/s eta 0:00:00\n",
      "Requirement already satisfied: pillow!=8.3.*,>=5.3.0 in c:\\users\\muhammet-pc\\anaconda3\\lib\\site-packages (from torchvision) (9.4.0)\n",
      "Requirement already satisfied: networkx in c:\\users\\muhammet-pc\\anaconda3\\lib\\site-packages (from torch) (2.8.4)\n",
      "Requirement already satisfied: jinja2 in c:\\users\\muhammet-pc\\anaconda3\\lib\\site-packages (from torch) (3.1.2)\n",
      "Requirement already satisfied: filelock in c:\\users\\muhammet-pc\\anaconda3\\lib\\site-packages (from torch) (3.9.0)\n",
      "Requirement already satisfied: sympy in c:\\users\\muhammet-pc\\anaconda3\\lib\\site-packages (from torch) (1.11.1)\n",
      "Requirement already satisfied: MarkupSafe>=2.0 in c:\\users\\muhammet-pc\\anaconda3\\lib\\site-packages (from jinja2->torch) (2.1.1)\n",
      "Requirement already satisfied: charset-normalizer<3,>=2 in c:\\users\\muhammet-pc\\anaconda3\\lib\\site-packages (from requests->torchvision) (2.0.4)\n",
      "Requirement already satisfied: urllib3<1.27,>=1.21.1 in c:\\users\\muhammet-pc\\anaconda3\\lib\\site-packages (from requests->torchvision) (1.26.14)\n",
      "Requirement already satisfied: idna<4,>=2.5 in c:\\users\\muhammet-pc\\anaconda3\\lib\\site-packages (from requests->torchvision) (3.4)\n",
      "Requirement already satisfied: certifi>=2017.4.17 in c:\\users\\muhammet-pc\\anaconda3\\lib\\site-packages (from requests->torchvision) (2023.5.7)\n",
      "Requirement already satisfied: mpmath>=0.19 in c:\\users\\muhammet-pc\\anaconda3\\lib\\site-packages (from sympy->torch) (1.2.1)\n",
      "Installing collected packages: torch, torchvision, torchaudio\n",
      "  Attempting uninstall: torch\n",
      "    Found existing installation: torch 1.12.1\n",
      "    Uninstalling torch-1.12.1:\n",
      "      Successfully uninstalled torch-1.12.1\n",
      "Successfully installed torch-2.0.1+cu118 torchaudio-2.0.2+cu118 torchvision-0.15.2+cu118\n"
     ]
    }
   ],
   "source": [
    "!pip install torch torchvision torchaudio --index-url https://download.pytorch.org/whl/cu118"
   ]
  },
  {
   "cell_type": "code",
   "execution_count": 4,
   "id": "c27e0d41",
   "metadata": {},
   "outputs": [
    {
     "name": "stdout",
     "output_type": "stream",
     "text": [
      "Requirement already satisfied: openai-whisper in c:\\users\\muhammet-pc\\anaconda3\\lib\\site-packages (20230314)\n",
      "Requirement already satisfied: torch in c:\\users\\muhammet-pc\\anaconda3\\lib\\site-packages (from openai-whisper) (2.0.1+cu118)\n",
      "Requirement already satisfied: numpy in c:\\users\\muhammet-pc\\anaconda3\\lib\\site-packages (from openai-whisper) (1.23.5)\n",
      "Requirement already satisfied: tiktoken==0.3.3 in c:\\users\\muhammet-pc\\anaconda3\\lib\\site-packages (from openai-whisper) (0.3.3)\n",
      "Requirement already satisfied: more-itertools in c:\\users\\muhammet-pc\\anaconda3\\lib\\site-packages (from openai-whisper) (9.1.0)\n",
      "Requirement already satisfied: tqdm in c:\\users\\muhammet-pc\\anaconda3\\lib\\site-packages (from openai-whisper) (4.64.1)\n",
      "Requirement already satisfied: numba in c:\\users\\muhammet-pc\\anaconda3\\lib\\site-packages (from openai-whisper) (0.56.4)\n",
      "Requirement already satisfied: requests>=2.26.0 in c:\\users\\muhammet-pc\\anaconda3\\lib\\site-packages (from tiktoken==0.3.3->openai-whisper) (2.28.1)\n",
      "Requirement already satisfied: regex>=2022.1.18 in c:\\users\\muhammet-pc\\anaconda3\\lib\\site-packages (from tiktoken==0.3.3->openai-whisper) (2022.7.9)\n",
      "Requirement already satisfied: llvmlite<0.40,>=0.39.0dev0 in c:\\users\\muhammet-pc\\anaconda3\\lib\\site-packages (from numba->openai-whisper) (0.39.1)\n",
      "Requirement already satisfied: setuptools in c:\\users\\muhammet-pc\\anaconda3\\lib\\site-packages (from numba->openai-whisper) (65.6.3)\n",
      "Requirement already satisfied: jinja2 in c:\\users\\muhammet-pc\\anaconda3\\lib\\site-packages (from torch->openai-whisper) (3.1.2)\n",
      "Requirement already satisfied: typing-extensions in c:\\users\\muhammet-pc\\anaconda3\\lib\\site-packages (from torch->openai-whisper) (4.4.0)\n",
      "Requirement already satisfied: networkx in c:\\users\\muhammet-pc\\anaconda3\\lib\\site-packages (from torch->openai-whisper) (2.8.4)\n",
      "Requirement already satisfied: sympy in c:\\users\\muhammet-pc\\anaconda3\\lib\\site-packages (from torch->openai-whisper) (1.11.1)\n",
      "Requirement already satisfied: filelock in c:\\users\\muhammet-pc\\anaconda3\\lib\\site-packages (from torch->openai-whisper) (3.9.0)\n",
      "Requirement already satisfied: colorama in c:\\users\\muhammet-pc\\anaconda3\\lib\\site-packages (from tqdm->openai-whisper) (0.4.6)\n",
      "Requirement already satisfied: urllib3<1.27,>=1.21.1 in c:\\users\\muhammet-pc\\anaconda3\\lib\\site-packages (from requests>=2.26.0->tiktoken==0.3.3->openai-whisper) (1.26.14)\n",
      "Requirement already satisfied: certifi>=2017.4.17 in c:\\users\\muhammet-pc\\anaconda3\\lib\\site-packages (from requests>=2.26.0->tiktoken==0.3.3->openai-whisper) (2023.5.7)\n",
      "Requirement already satisfied: charset-normalizer<3,>=2 in c:\\users\\muhammet-pc\\anaconda3\\lib\\site-packages (from requests>=2.26.0->tiktoken==0.3.3->openai-whisper) (2.0.4)\n",
      "Requirement already satisfied: idna<4,>=2.5 in c:\\users\\muhammet-pc\\anaconda3\\lib\\site-packages (from requests>=2.26.0->tiktoken==0.3.3->openai-whisper) (3.4)\n",
      "Requirement already satisfied: MarkupSafe>=2.0 in c:\\users\\muhammet-pc\\anaconda3\\lib\\site-packages (from jinja2->torch->openai-whisper) (2.1.1)\n",
      "Requirement already satisfied: mpmath>=0.19 in c:\\users\\muhammet-pc\\anaconda3\\lib\\site-packages (from sympy->torch->openai-whisper) (1.2.1)\n"
     ]
    },
    {
     "name": "stderr",
     "output_type": "stream",
     "text": [
      "WARNING: Retrying (Retry(total=4, connect=None, read=None, redirect=None, status=None)) after connection broken by 'ReadTimeoutError(\"HTTPSConnectionPool(host='pypi.org', port=443): Read timed out. (read timeout=15)\")': /simple/openai-whisper/\n"
     ]
    }
   ],
   "source": [
    "!pip install -U openai-whisper"
   ]
  },
  {
   "cell_type": "code",
   "execution_count": 5,
   "id": "9065c2c8",
   "metadata": {},
   "outputs": [
    {
     "name": "stdout",
     "output_type": "stream",
     "text": [
      "Collecting deep-translator\n",
      "  Downloading deep_translator-1.11.1-py3-none-any.whl (37 kB)\n",
      "Requirement already satisfied: beautifulsoup4<5.0.0,>=4.9.1 in c:\\users\\muhammet-pc\\anaconda3\\lib\\site-packages (from deep-translator) (4.11.1)\n",
      "Requirement already satisfied: requests<3.0.0,>=2.23.0 in c:\\users\\muhammet-pc\\anaconda3\\lib\\site-packages (from deep-translator) (2.28.1)\n",
      "Requirement already satisfied: soupsieve>1.2 in c:\\users\\muhammet-pc\\anaconda3\\lib\\site-packages (from beautifulsoup4<5.0.0,>=4.9.1->deep-translator) (2.3.2.post1)\n",
      "Requirement already satisfied: urllib3<1.27,>=1.21.1 in c:\\users\\muhammet-pc\\anaconda3\\lib\\site-packages (from requests<3.0.0,>=2.23.0->deep-translator) (1.26.14)\n",
      "Requirement already satisfied: idna<4,>=2.5 in c:\\users\\muhammet-pc\\anaconda3\\lib\\site-packages (from requests<3.0.0,>=2.23.0->deep-translator) (3.4)\n",
      "Requirement already satisfied: certifi>=2017.4.17 in c:\\users\\muhammet-pc\\anaconda3\\lib\\site-packages (from requests<3.0.0,>=2.23.0->deep-translator) (2023.5.7)\n",
      "Requirement already satisfied: charset-normalizer<3,>=2 in c:\\users\\muhammet-pc\\anaconda3\\lib\\site-packages (from requests<3.0.0,>=2.23.0->deep-translator) (2.0.4)\n",
      "Installing collected packages: deep-translator\n",
      "Successfully installed deep-translator-1.11.1\n"
     ]
    }
   ],
   "source": [
    "!pip install -U deep-translator"
   ]
  },
  {
   "cell_type": "code",
   "execution_count": 7,
   "id": "13de0087",
   "metadata": {},
   "outputs": [
    {
     "name": "stdout",
     "output_type": "stream",
     "text": [
      "^C\n"
     ]
    }
   ],
   "source": [
    "!whisper \"dohod.mp4\" --language Russian --model medium"
   ]
  },
  {
   "cell_type": "code",
   "execution_count": null,
   "id": "84e9f2af",
   "metadata": {},
   "outputs": [],
   "source": []
  }
 ],
 "metadata": {
  "kernelspec": {
   "display_name": "Python 3 (ipykernel)",
   "language": "python",
   "name": "python3"
  },
  "language_info": {
   "codemirror_mode": {
    "name": "ipython",
    "version": 3
   },
   "file_extension": ".py",
   "mimetype": "text/x-python",
   "name": "python",
   "nbconvert_exporter": "python",
   "pygments_lexer": "ipython3",
   "version": "3.10.9"
  }
 },
 "nbformat": 4,
 "nbformat_minor": 5
}
